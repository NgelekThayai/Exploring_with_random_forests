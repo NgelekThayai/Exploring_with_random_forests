{
 "cells": [
  {
   "cell_type": "code",
   "execution_count": 1,
   "id": "305741a4",
   "metadata": {},
   "outputs": [],
   "source": [
    "import pandas as pd"
   ]
  },
  {
   "cell_type": "code",
   "execution_count": 2,
   "id": "b64c87fd",
   "metadata": {},
   "outputs": [],
   "source": [
    "import numpy as np"
   ]
  },
  {
   "cell_type": "code",
   "execution_count": 18,
   "id": "4c9a6f0d",
   "metadata": {},
   "outputs": [],
   "source": [
    "import matplotlib.pyplot as plt"
   ]
  },
  {
   "cell_type": "code",
   "execution_count": 19,
   "id": "846f7641",
   "metadata": {},
   "outputs": [],
   "source": [
    "import seaborn as sb"
   ]
  },
  {
   "cell_type": "code",
   "execution_count": 20,
   "id": "cdb0e27c",
   "metadata": {},
   "outputs": [],
   "source": [
    "import etl"
   ]
  },
  {
   "cell_type": "code",
   "execution_count": 21,
   "id": "8403289a",
   "metadata": {},
   "outputs": [],
   "source": [
    "import mltool"
   ]
  },
  {
   "cell_type": "code",
   "execution_count": 22,
   "id": "595005f2",
   "metadata": {},
   "outputs": [],
   "source": [
    "import sklearn"
   ]
  },
  {
   "cell_type": "code",
   "execution_count": 23,
   "id": "eea7d033",
   "metadata": {},
   "outputs": [],
   "source": [
    "model = mltool.Model()"
   ]
  },
  {
   "cell_type": "code",
   "execution_count": 24,
   "id": "b1e1524f",
   "metadata": {},
   "outputs": [],
   "source": [
    "breast = pd.read_csv('https://datahub.io/machine-learning/breast-w/r/breast-w.csv', na_values = [\"?\"])"
   ]
  },
  {
   "cell_type": "code",
   "execution_count": 25,
   "id": "cca0514e",
   "metadata": {},
   "outputs": [],
   "source": [
    "breast_train, breast_test = model.split_train_test(breast, target = 'Class')"
   ]
  },
  {
   "cell_type": "code",
   "execution_count": 26,
   "id": "542f9ddc",
   "metadata": {},
   "outputs": [],
   "source": [
    "model.learn(breast_train, target = 'Class', kind = 'RF')"
   ]
  },
  {
   "cell_type": "code",
   "execution_count": 27,
   "id": "f1fb5b4e",
   "metadata": {},
   "outputs": [
    {
     "data": {
      "text/html": [
       "<div>\n",
       "<style scoped>\n",
       "    .dataframe tbody tr th:only-of-type {\n",
       "        vertical-align: middle;\n",
       "    }\n",
       "\n",
       "    .dataframe tbody tr th {\n",
       "        vertical-align: top;\n",
       "    }\n",
       "\n",
       "    .dataframe thead th {\n",
       "        text-align: right;\n",
       "    }\n",
       "</style>\n",
       "<table border=\"1\" class=\"dataframe\">\n",
       "  <thead>\n",
       "    <tr style=\"text-align: right;\">\n",
       "      <th></th>\n",
       "      <th>Class</th>\n",
       "    </tr>\n",
       "  </thead>\n",
       "  <tbody>\n",
       "    <tr>\n",
       "      <th>0</th>\n",
       "      <td>malignant</td>\n",
       "    </tr>\n",
       "    <tr>\n",
       "      <th>1</th>\n",
       "      <td>benign</td>\n",
       "    </tr>\n",
       "    <tr>\n",
       "      <th>2</th>\n",
       "      <td>benign</td>\n",
       "    </tr>\n",
       "    <tr>\n",
       "      <th>3</th>\n",
       "      <td>benign</td>\n",
       "    </tr>\n",
       "    <tr>\n",
       "      <th>4</th>\n",
       "      <td>benign</td>\n",
       "    </tr>\n",
       "    <tr>\n",
       "      <th>...</th>\n",
       "      <td>...</td>\n",
       "    </tr>\n",
       "    <tr>\n",
       "      <th>135</th>\n",
       "      <td>malignant</td>\n",
       "    </tr>\n",
       "    <tr>\n",
       "      <th>136</th>\n",
       "      <td>malignant</td>\n",
       "    </tr>\n",
       "    <tr>\n",
       "      <th>137</th>\n",
       "      <td>benign</td>\n",
       "    </tr>\n",
       "    <tr>\n",
       "      <th>138</th>\n",
       "      <td>benign</td>\n",
       "    </tr>\n",
       "    <tr>\n",
       "      <th>139</th>\n",
       "      <td>benign</td>\n",
       "    </tr>\n",
       "  </tbody>\n",
       "</table>\n",
       "<p>140 rows × 1 columns</p>\n",
       "</div>"
      ],
      "text/plain": [
       "         Class\n",
       "0    malignant\n",
       "1       benign\n",
       "2       benign\n",
       "3       benign\n",
       "4       benign\n",
       "..         ...\n",
       "135  malignant\n",
       "136  malignant\n",
       "137     benign\n",
       "138     benign\n",
       "139     benign\n",
       "\n",
       "[140 rows x 1 columns]"
      ]
     },
     "execution_count": 27,
     "metadata": {},
     "output_type": "execute_result"
    }
   ],
   "source": [
    "model.predict(breast_test)"
   ]
  },
  {
   "cell_type": "code",
   "execution_count": 28,
   "id": "9d10aa88",
   "metadata": {},
   "outputs": [
    {
     "data": {
      "text/plain": [
       "1.0"
      ]
     },
     "execution_count": 28,
     "metadata": {},
     "output_type": "execute_result"
    }
   ],
   "source": [
    "model.accuracy(breast_train)"
   ]
  },
  {
   "cell_type": "code",
   "execution_count": 29,
   "id": "de4432f7",
   "metadata": {},
   "outputs": [
    {
     "data": {
      "text/plain": [
       "0.9642857142857143"
      ]
     },
     "execution_count": 29,
     "metadata": {},
     "output_type": "execute_result"
    }
   ],
   "source": [
    "model.accuracy(breast_test)"
   ]
  },
  {
   "cell_type": "code",
   "execution_count": 32,
   "id": "0c0648d8",
   "metadata": {},
   "outputs": [],
   "source": [
    "fi = model.feature_importances(breast_test, 10)"
   ]
  },
  {
   "cell_type": "code",
   "execution_count": 33,
   "id": "18deb924",
   "metadata": {},
   "outputs": [
    {
     "data": {
      "text/plain": [
       "<AxesSubplot:>"
      ]
     },
     "execution_count": 33,
     "metadata": {},
     "output_type": "execute_result"
    },
    {
     "data": {
      "image/png": "[encoded data removed]",
      "text/plain": [
       "<Figure size 432x288 with 1 Axes>"
      ]
     },
     "metadata": {
      "needs_background": "light"
     },
     "output_type": "display_data"
    }
   ],
   "source": [
    "fi.plot.bar()"
   ]
  },
  {
   "cell_type": "code",
   "execution_count": 34,
   "id": "43c0222b",
   "metadata": {},
   "outputs": [],
   "source": [
    "accTest = []\n",
    "accTrain = []\n",
    "numTrees = [5, 10, 15, 20, 30, 40, 50]\n",
    "\n",
    "for t in numTrees:\n",
    "    model.learn(breast_train, target = 'Class', kind = 'RF', n_estimators = t)\n",
    "    accTest.append(model.accuracy(breast_test))\n",
    "    accTrain.append(model.accuracy(breast_train))"
   ]
  },
  {
   "cell_type": "code",
   "execution_count": 39,
   "id": "f41d4535",
   "metadata": {
    "scrolled": true
   },
   "outputs": [
    {
     "data": {
      "text/plain": [
       "<matplotlib.legend.Legend at 0x7faaa9381dc0>"
      ]
     },
     "execution_count": 39,
     "metadata": {},
     "output_type": "execute_result"
    },
    {
     "data": {
      "image/png": "[encoded data removed]",
      "text/plain": [
       "<Figure size 432x288 with 1 Axes>"
      ]
     },
     "metadata": {
      "needs_background": "light"
     },
     "output_type": "display_data"
    }
   ],
   "source": [
    "plt.plot(numTrees, accTest); plt.plot(numTrees, accTrain); plt.legend([\"test\",\"train\"])"
   ]
  },
  {
   "cell_type": "code",
   "execution_count": 41,
   "id": "693c6bf8",
   "metadata": {},
   "outputs": [
    {
     "data": {
      "image/png": "[encoded data removed]",
      "text/plain": [
       "<Figure size 360x288 with 2 Axes>"
      ]
     },
     "metadata": {
      "needs_background": "light"
     },
     "output_type": "display_data"
    }
   ],
   "source": [
    "cm = model.confusion(breast_test)\n",
    "cm_df = pd.DataFrame(cm,\n",
    "                    index = ['benign', 'malignant'],\n",
    "                    columns = ['benign', 'malignant'])\n",
    "plt.figure(figsize=(5,4))\n",
    "sb.heatmap(cm_df, annot=True)\n",
    "plt.title('Confusion Matrix')\n",
    "plt.ylabel('Actal Values')\n",
    "plt.xlabel('Predicted Values')\n",
    "plt.show()"
   ]
  },
  {
   "cell_type": "code",
   "execution_count": null,
   "id": "bc30faca",
   "metadata": {},
   "outputs": [],
   "source": []
  }
 ],
 "metadata": {
  "kernelspec": {
   "display_name": "Python 3 (ipykernel)",
   "language": "python",
   "name": "python3"
  },
  "language_info": {
   "codemirror_mode": {
    "name": "ipython",
    "version": 3
   },
   "file_extension": ".py",
   "mimetype": "text/x-python",
   "name": "python",
   "nbconvert_exporter": "python",
   "pygments_lexer": "ipython3",
   "version": "3.9.12"
  }
 },
 "nbformat": 4,
 "nbformat_minor": 5
}
